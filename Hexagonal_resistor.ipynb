{
 "cells": [
  {
   "cell_type": "markdown",
   "id": "7961ebd9",
   "metadata": {},
   "source": [
    "# Hexagonal resistor"
   ]
  },
  {
   "cell_type": "markdown",
   "id": "f1b01981",
   "metadata": {},
   "source": [
    "<img src=\"net.png\" width=\"300\"> "
   ]
  },
  {
   "cell_type": "code",
   "execution_count": 84,
   "id": "ba046317",
   "metadata": {},
   "outputs": [
    {
     "ename": "ImportError",
     "evalue": "cannot import name 'sparseSolve' from 'scipy.linalg' (/opt/anaconda3/lib/python3.8/site-packages/scipy/linalg/__init__.py)",
     "output_type": "error",
     "traceback": [
      "\u001b[0;31m---------------------------------------------------------------------------\u001b[0m",
      "\u001b[0;31mImportError\u001b[0m                               Traceback (most recent call last)",
      "\u001b[0;32m/var/folders/v5/742b2zhd1lx3j2bk15yrd_q80000gn/T/ipykernel_29948/3198776413.py\u001b[0m in \u001b[0;36m<module>\u001b[0;34m\u001b[0m\n\u001b[1;32m      1\u001b[0m \u001b[0;32mimport\u001b[0m \u001b[0mnumpy\u001b[0m \u001b[0;32mas\u001b[0m \u001b[0mnp\u001b[0m\u001b[0;34m\u001b[0m\u001b[0;34m\u001b[0m\u001b[0m\n\u001b[0;32m----> 2\u001b[0;31m \u001b[0;32mfrom\u001b[0m \u001b[0mscipy\u001b[0m\u001b[0;34m.\u001b[0m\u001b[0mlinalg\u001b[0m \u001b[0;32mimport\u001b[0m \u001b[0msparseSolve\u001b[0m\u001b[0;34m\u001b[0m\u001b[0;34m\u001b[0m\u001b[0m\n\u001b[0m\u001b[1;32m      3\u001b[0m \u001b[0;32mimport\u001b[0m \u001b[0mmatplotlib\u001b[0m\u001b[0;34m.\u001b[0m\u001b[0mpyplot\u001b[0m \u001b[0;32mas\u001b[0m \u001b[0mplt\u001b[0m\u001b[0;34m\u001b[0m\u001b[0;34m\u001b[0m\u001b[0m\n\u001b[1;32m      4\u001b[0m \u001b[0mN\u001b[0m \u001b[0;34m=\u001b[0m \u001b[0;36m64\u001b[0m \u001b[0;31m# stick to  N being a multiple of 2\u001b[0m\u001b[0;34m\u001b[0m\u001b[0;34m\u001b[0m\u001b[0m\n\u001b[1;32m      5\u001b[0m \u001b[0;34m\u001b[0m\u001b[0m\n",
      "\u001b[0;31mImportError\u001b[0m: cannot import name 'sparseSolve' from 'scipy.linalg' (/opt/anaconda3/lib/python3.8/site-packages/scipy/linalg/__init__.py)"
     ]
    }
   ],
   "source": [
    "import numpy as np\n",
    "from scipy.linalg import spsolve\n",
    "import matplotlib.pyplot as plt\n",
    "N = 64 # stick to  N being a multiple of 2\n",
    "\n",
    "#A = np.zeros((N**2,N**2))\n",
    "#I = np.zeros(N**2)\n",
    "\n",
    "rows = []\n",
    "cols = []\n",
    "data = []\n",
    "\n",
    "\n",
    "for k in range(N):\n",
    "    for i in range(N):\n",
    "        # bottom edge\n",
    "        if k == 0: # row number\n",
    "            if i == 0:\n",
    "                \n",
    "                A[0,0] = 1\n",
    "                A[0,N] = -1\n",
    "            elif i == N - 1:\n",
    "                A[N - 1,N - 1] = 1\n",
    "                A[N - 1,N - 1 + N] = -1    \n",
    "            elif i % 2 == 1: \n",
    "                A[i,i] = 2\n",
    "                A[i,i + 1] = -1\n",
    "                A[i,i + N] = -1\n",
    "            elif i % 2 == 0: \n",
    "                A[i,i] = 2\n",
    "                A[i,i - 1] = -1\n",
    "                A[i,i + N] = -1  \n",
    "        # top edge\n",
    "        elif k == N - 1:\n",
    "            if i % 2 == 0:\n",
    "                A[N*k + i, N*k + i] = 2\n",
    "                A[N*k+i, N*k + i + 1] = -1\n",
    "                A[N*k+i, N*k + i - N] = -1\n",
    "            elif i % 2 == 1:\n",
    "                A[N*k + i, N*k + i] = 2\n",
    "                A[N*k+i, N*k + i - 1] = -1\n",
    "                A[N*k+i, N*k + i - N] = -1\n",
    "        # odd row number\n",
    "        elif k % 2 == 1:\n",
    "            if i % 2 == 0:\n",
    "                A[N*k+i,N*k+i] = 3\n",
    "                A[N*k+i,N*k+i+1] = -1\n",
    "                A[N*k+i,N*k+i-N] = -1\n",
    "                A[N*k+i,N*k+i+N] = -1\n",
    "            elif i % 2 == 1:\n",
    "                A[N*k+i,N*k+i] = 3\n",
    "                A[N*k+i,N*k+i-1] = -1\n",
    "                A[N*k+i,N*k+i-N] = -1\n",
    "                A[N*k+i,N*k+i+N] = -1\n",
    "        # even row number\n",
    "        elif k % 2 == 0:\n",
    "            if i == 0:\n",
    "                A[N*k+i,N*k+i] = 2\n",
    "                A[N*k+i,N*k+i+N] = -1\n",
    "                A[N*k+i,N*k+i-N] = -1\n",
    "            elif i == N - 1:\n",
    "                A[N*k+i,N*k+i] = 2\n",
    "                A[N*k+i,N*k+i+N] = -1\n",
    "                A[N*k+i,N*k+i-N] = -1\n",
    "            elif i % 2 == 1:\n",
    "                A[N*k+i,N*k+i] = 3\n",
    "                A[N*k+i,N*k+i + 1] = -1\n",
    "                A[N*k+i,N*k+i + N] = -1\n",
    "                A[N*k+i,N*k+i - N] = -1\n",
    "            elif i % 2 == 0:\n",
    "                A[N*k+i,N*k+i] = 3\n",
    "                A[N*k+i,N*k+i - 1] = -1\n",
    "                A[N*k+i,N*k+i + N] = -1\n",
    "                A[N*k+i,N*k+i - N] = -1\n",
    "        \n",
    "        \n",
    "plt.pcolor(A)            \n",
    "            "
   ]
  },
  {
   "cell_type": "code",
   "execution_count": 81,
   "id": "8d25ad19",
   "metadata": {},
   "outputs": [
    {
     "name": "stdout",
     "output_type": "stream",
     "text": [
      "0.6668663630924705\n"
     ]
    },
    {
     "name": "stderr",
     "output_type": "stream",
     "text": [
      "/var/folders/v5/742b2zhd1lx3j2bk15yrd_q80000gn/T/ipykernel_29948/2361761297.py:9: LinAlgWarning: Ill-conditioned matrix (rcond=1.3069e-18): result may not be accurate.\n",
      "  V = solve(A,I)\n"
     ]
    }
   ],
   "source": [
    "i , j = N//2, N//2\n",
    "point = N*i+j\n",
    "offset = 64\n",
    "\n",
    "I = np.zeros(N**2)\n",
    "I[point] = 1\n",
    "I[point+offset] = -1\n",
    "\n",
    "V = solve(A,I)\n",
    "#print(V)\n",
    "\n",
    "R = V[point]- V[point+offset]\n",
    "print(R)"
   ]
  },
  {
   "cell_type": "code",
   "execution_count": null,
   "id": "7febb5a6",
   "metadata": {},
   "outputs": [],
   "source": []
  },
  {
   "cell_type": "code",
   "execution_count": null,
   "id": "57554951",
   "metadata": {},
   "outputs": [],
   "source": []
  }
 ],
 "metadata": {
  "kernelspec": {
   "display_name": "Python 3 (ipykernel)",
   "language": "python",
   "name": "python3"
  },
  "language_info": {
   "codemirror_mode": {
    "name": "ipython",
    "version": 3
   },
   "file_extension": ".py",
   "mimetype": "text/x-python",
   "name": "python",
   "nbconvert_exporter": "python",
   "pygments_lexer": "ipython3",
   "version": "3.8.5"
  }
 },
 "nbformat": 4,
 "nbformat_minor": 5
}
