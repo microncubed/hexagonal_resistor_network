{
 "cells": [
  {
   "cell_type": "markdown",
   "id": "e502cf31",
   "metadata": {},
   "source": [
    "# Hexagonal resistor"
   ]
  },
  {
   "cell_type": "markdown",
   "id": "3c7d6b53",
   "metadata": {},
   "source": [
    "<img src=\"net.png\" width=\"300\"> "
   ]
  },
  {
   "cell_type": "code",
   "execution_count": 2,
   "id": "ba046317",
   "metadata": {},
   "outputs": [
    {
     "data": {
      "text/plain": [
       "<matplotlib.collections.PolyCollection at 0x7f976a3f9a30>"
      ]
     },
     "execution_count": 2,
     "metadata": {},
     "output_type": "execute_result"
    },
    {
     "data": {
      "image/png": "[encoded data removed]",
      "text/plain": [
       "<Figure size 432x288 with 1 Axes>"
      ]
     },
     "metadata": {
      "needs_background": "light"
     },
     "output_type": "display_data"
    }
   ],
   "source": [
    "import numpy as np\n",
    "from scipy.linalg import solve\n",
    "import matplotlib.pyplot as plt\n",
    "N = 4 # stick to  N being a multiple of 2\n",
    "\n",
    "A = np.zeros((N**2,N**2))\n",
    "I = np.zeros(N**2)\n",
    "\n",
    "for k in range(N):\n",
    "    for i in range(N):\n",
    "        # bottom edge\n",
    "        if k == 0: # row number\n",
    "            if i == 0:\n",
    "                A[0,0] = 1\n",
    "                A[0,N] = -1\n",
    "            elif i == N - 1:\n",
    "                A[N - 1,N - 1] = 1\n",
    "                A[N - 1,N - 1 + N] = -1    \n",
    "            elif i % 2 == 1: \n",
    "                A[i,i] = 2\n",
    "                A[i,i + 1] = -1\n",
    "                A[i,i + N] = -1\n",
    "            elif i % 2 == 0: \n",
    "                A[i,i] = 2\n",
    "                A[i,i - 1] = -1\n",
    "                A[i,i + N] = -1  \n",
    "        # top edge\n",
    "        elif k == N - 1:\n",
    "            if i % 2 == 0:\n",
    "                A[N*k + i, N*k + i] = 2\n",
    "                A[N*k+i, N*k + i + 1] = -1\n",
    "                A[N*k+i, N*k + i - N] = -1\n",
    "            elif i % 2 == 1:\n",
    "                A[N*k + i, N*k + i] = 2\n",
    "                A[N*k+i, N*k + i - 1] = -1\n",
    "                A[N*k+i, N*k + i - N] = -1\n",
    "        # odd row number\n",
    "        elif k % 2 == 1:\n",
    "            if i % 2 == 0:\n",
    "                A[N*k+i,N*k+i] = 3\n",
    "                A[N*k+i,N*k+i+1] = -1\n",
    "                A[N*k+i,N*k+i-N] = -1\n",
    "                A[N*k+i,N*k+i+N] = -1\n",
    "            elif i % 2 == 1:\n",
    "                A[N*k+i,N*k+i] = 3\n",
    "                A[N*k+i,N*k+i-1] = -1\n",
    "                A[N*k+i,N*k+i-N] = -1\n",
    "                A[N*k+i,N*k+i+N] = -1\n",
    "        # even row number\n",
    "        elif k % 2 == 0:\n",
    "            if i == 0:\n",
    "                A[N*k+i,N*k+i] = 2\n",
    "                A[N*k+i,N*k+i+N] = -1\n",
    "                A[N*k+i,N*k+i-N] = -1\n",
    "            elif i == N - 1:\n",
    "                A[N*k+i,N*k+i] = 2\n",
    "                A[N*k+i,N*k+i+N] = -1\n",
    "                A[N*k+i,N*k+i-N] = -1\n",
    "            elif i % 2 == 1:\n",
    "                A[N*k+i,N*k+i] = 3\n",
    "                A[N*k+i,N*k+i + 1] = -1\n",
    "                A[N*k+i,N*k+i + N] = -1\n",
    "                A[N*k+i,N*k+i - N] = -1\n",
    "            elif i % 2 == 0:\n",
    "                A[N*k+i,N*k+i] = 3\n",
    "                A[N*k+i,N*k+i - 1] = -1\n",
    "                A[N*k+i,N*k+i + N] = -1\n",
    "                A[N*k+i,N*k+i - N] = -1\n",
    "        \n",
    "        \n",
    "plt.pcolor(A)            \n",
    "            "
   ]
  },
  {
   "cell_type": "code",
   "execution_count": 12,
   "id": "8d25ad19",
   "metadata": {},
   "outputs": [
    {
     "name": "stdout",
     "output_type": "stream",
     "text": [
      "1.25\n"
     ]
    },
    {
     "name": "stderr",
     "output_type": "stream",
     "text": [
      "/var/folders/v5/742b2zhd1lx3j2bk15yrd_q80000gn/T/ipykernel_29948/615735451.py:6: LinAlgWarning: Ill-conditioned matrix (rcond=4.04769e-18): result may not be accurate.\n",
      "  V = solve(A,I)\n"
     ]
    }
   ],
   "source": [
    "\n",
    "point = 0\n",
    "\n",
    "I[point] = 1\n",
    "I[point+1] = -1\n",
    "\n",
    "V = solve(A,I)\n",
    "#print(V)\n",
    "\n",
    "R = V[point]- V[point+1]\n",
    "print(R)"
   ]
  },
  {
   "cell_type": "code",
   "execution_count": null,
   "id": "7febb5a6",
   "metadata": {},
   "outputs": [],
   "source": []
  },
  {
   "cell_type": "code",
   "execution_count": null,
   "id": "57554951",
   "metadata": {},
   "outputs": [],
   "source": []
  }
 ],
 "metadata": {
  "kernelspec": {
   "display_name": "Python 3 (ipykernel)",
   "language": "python",
   "name": "python3"
  },
  "language_info": {
   "codemirror_mode": {
    "name": "ipython",
    "version": 3
   },
   "file_extension": ".py",
   "mimetype": "text/x-python",
   "name": "python",
   "nbconvert_exporter": "python",
   "pygments_lexer": "ipython3",
   "version": "3.8.5"
  }
 },
 "nbformat": 4,
 "nbformat_minor": 5
}
