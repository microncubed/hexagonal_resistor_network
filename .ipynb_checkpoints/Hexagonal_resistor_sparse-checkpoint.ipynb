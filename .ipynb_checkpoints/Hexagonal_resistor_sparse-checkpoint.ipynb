{
 "cells": [
  {
   "cell_type": "markdown",
   "id": "7961ebd9",
   "metadata": {},
   "source": [
    "# Hexagonal resistor sparse\n",
    "\n",
    "Here we find the resistance between two arbitrary points in a hexagonal resistor grid with the aim of determining the limiting behaviour as the grid becomes infinite. \n",
    "\n",
    "As an example, here is a 4 x 4 grid. N, the number of sites in x, y needs to be even to maintain these boundary conditions. "
   ]
  },
  {
   "cell_type": "markdown",
   "id": "f1b01981",
   "metadata": {},
   "source": [
    "<img src=\"net.png\" width=\"300\"> "
   ]
  },
  {
   "cell_type": "code",
   "execution_count": 3,
   "id": "ba046317",
   "metadata": {},
   "outputs": [],
   "source": [
    "import numpy as np\n",
    "from scipy.linalg import solve\n",
    "from scipy.sparse import coo_matrix\n",
    "from scipy.sparse.linalg import spsolve\n",
    "import matplotlib.pyplot as plt\n",
    "plt.rcParams['font.size'] = 18\n",
    "plt.rcParams['lines.linewidth'] = 3\n",
    "from functions import make_matrix"
   ]
  },
  {
   "cell_type": "code",
   "execution_count": 4,
   "id": "8d25ad19",
   "metadata": {},
   "outputs": [
    {
     "name": "stdout",
     "output_type": "stream",
     "text": [
      "[0.8125, 0.67041015625, 0.6668701171875, 0.666748046875, 0.6666841506958008, 0.6666704416275024] [1.0625, 1.0029296875, 1.0010986328125, 1.0001678466796875, 1.000040054321289, 1.0000123977661133]\n"
     ]
    }
   ],
   "source": [
    "# N can only be even\n",
    "Ns = [8,16,32,64,128,256]\n",
    "Rs = []\n",
    "\n",
    "\n",
    "for N in Ns:\n",
    "    offsets = [-N,-2*N]\n",
    "    for offset in offsets:\n",
    "        # The matrix describing the interconnects\n",
    "        Adata_csr = make_matrix(N)\n",
    "\n",
    "        # The vector of currents\n",
    "        I = np.zeros(N**2)\n",
    "\n",
    "        # Defines the point with the first current source\n",
    "        i , j = N//2, N//2\n",
    "        point = N*i+j\n",
    "        I[point] = 1\n",
    "\n",
    "        # And the second current source\n",
    "        I[point+offset] = -1\n",
    "\n",
    "        #Solve the matrix equation for the voltage vector\n",
    "        V = spsolve(Adata_csr,I)\n",
    "\n",
    "        # Determine the resistance\n",
    "        R = V[point]- V[point+offset]\n",
    "        Rs.append(R)\n",
    "    \n",
    "\n",
    "R_N_offsets = [(Rs[2*i]) for i in range(len(Rs)//2)]\n",
    "R_2N_offsets = [(Rs[2*i + 1]) for i in range(len(Rs)//2)]\n",
    "\n",
    "print(R_N_offsets, R_2N_offsets)"
   ]
  },
  {
   "cell_type": "code",
   "execution_count": 14,
   "id": "7febb5a6",
   "metadata": {},
   "outputs": [
    {
     "data": {
      "image/png": "[encoded data removed]",
      "text/plain": [
       "<Figure size 360x288 with 1 Axes>"
      ]
     },
     "metadata": {
      "needs_background": "light"
     },
     "output_type": "display_data"
    }
   ],
   "source": [
    "fig,ax = plt.subplots(1,1,figsize = [5,4])\n",
    "#ax.semilogx([8,256],[2/3,2/3], '-', color = 'red', alpha = 0.6)\n",
    "ax.semilogx([8,256],[1,1], '-', color = 'blue', alpha = 0.6)\n",
    "\n",
    "#ax.semilogx(Ns[1:],R_N_offsets[1:], '.', markersize = 12, color = 'red', label = 'NN', alpha = 1)\n",
    "ax.semilogx(Ns[1:],R_2N_offsets[1:], '.', markersize = 12, color = 'blue', label = 'NNN', alpha = 1)\n",
    "\n",
    "\n",
    "#ax.set_xlim([8,256])\n",
    "#ax.set_ylim([0,1.1])\n",
    "ax.set_xlabel('N')\n",
    "ax.set_ylabel('R$_{SU}$ ($\\Omega$)')\n",
    "#ax.legend(frameon = False)\n",
    "fig.tight_layout()\n",
    "fig.savefig('resistances_NNN.png', dpi = 150, facecolor = 'w')"
   ]
  },
  {
   "cell_type": "code",
   "execution_count": null,
   "id": "57554951",
   "metadata": {},
   "outputs": [],
   "source": []
  }
 ],
 "metadata": {
  "kernelspec": {
   "display_name": "Python 3 (ipykernel)",
   "language": "python",
   "name": "python3"
  },
  "language_info": {
   "codemirror_mode": {
    "name": "ipython",
    "version": 3
   },
   "file_extension": ".py",
   "mimetype": "text/x-python",
   "name": "python",
   "nbconvert_exporter": "python",
   "pygments_lexer": "ipython3",
   "version": "3.8.5"
  }
 },
 "nbformat": 4,
 "nbformat_minor": 5
}
